{
  "metadata": {
    "language_info": {
      "codemirror_mode": {
        "name": "python",
        "version": 3
      },
      "file_extension": ".py",
      "mimetype": "text/x-python",
      "name": "python",
      "nbconvert_exporter": "python",
      "pygments_lexer": "ipython3",
      "version": "3.8"
    },
    "kernelspec": {
      "name": "python",
      "display_name": "Python (Pyodide)",
      "language": "python"
    }
  },
  "nbformat_minor": 4,
  "nbformat": 4,
  "cells": [
    {
      "cell_type": "code",
      "source": "import pandas as pd\nimport numpy as np\nimport seaborn as sns\n\nimport matplotlib.pyplot as plt\nimport matplotlib.mlab as mlab\nimport matplotlib\n\nplt.style.use('ggplot')\nfrom matplotlib.pyplot import figure\n\n% matplotlib\ninline\nmatplotlib.rcParams['figure.figsize'] = (12, 8)\n\npd.options.mode.chained_assignment = None\n\ndf = pd.read_csv(r'C:\\Users\\IPI\\Desktop\\movies.csv')\ndf\n",
      "metadata": {
        "trusted": true
      },
      "execution_count": null,
      "outputs": []
    },
    {
      "cell_type": "code",
      "source": "# To check for missing data\nfor col in df.columns:\n    pct_missing = np.mean(df[col].isnull())\n    print('{} - {}%'.format(col, round(pct_missing*100)))",
      "metadata": {
        "trusted": true
      },
      "execution_count": null,
      "outputs": []
    },
    {
      "cell_type": "code",
      "source": "# Data Types for our columns\n\nprint(df.dtypes)",
      "metadata": {},
      "execution_count": null,
      "outputs": []
    },
    {
      "cell_type": "code",
      "source": "# To check for Outliers?\n\ndf.boxplot(column=['gross'])",
      "metadata": {},
      "execution_count": null,
      "outputs": []
    },
    {
      "cell_type": "code",
      "source": "# To remove Duplicates\ndf.drop_duplicates()",
      "metadata": {},
      "execution_count": null,
      "outputs": []
    },
    {
      "cell_type": "code",
      "source": "# Order our Data a little bit to see\n\ndf.sort_values(by=['gross'], inplace=False, ascending=False)",
      "metadata": {},
      "execution_count": null,
      "outputs": []
    },
    {
      "cell_type": "code",
      "source": "sns.regplot(x=\"gross\", y=\"budget\", data=df)",
      "metadata": {},
      "execution_count": null,
      "outputs": []
    },
    {
      "cell_type": "code",
      "source": "sns.regplot(x=\"score\", y=\"gross\", data=df)",
      "metadata": {},
      "execution_count": null,
      "outputs": []
    },
    {
      "cell_type": "code",
      "source": "# Correlation Matrix between all numeric columns\n\ndf.corr(method ='pearson')",
      "metadata": {},
      "execution_count": null,
      "outputs": []
    },
    {
      "cell_type": "code",
      "source": "df.corr(method ='kendall')",
      "metadata": {},
      "execution_count": null,
      "outputs": []
    },
    {
      "cell_type": "code",
      "source": "df.corr(method ='spearman')",
      "metadata": {},
      "execution_count": null,
      "outputs": []
    },
    {
      "cell_type": "code",
      "source": "correlation_matrix = df.corr()\n\nsns.heatmap(correlation_matrix, annot = True)\n\nplt.title(\"Correlation matrix for Numeric Features\")\n\nplt.xlabel(\"Movie features\")\n\nplt.ylabel(\"Movie features\")\n\nplt.show()",
      "metadata": {},
      "execution_count": null,
      "outputs": []
    },
    {
      "cell_type": "code",
      "source": "# Using factorize - to assign a random numeric value for each unique categorical value\n\ndf.apply(lambda x: x.factorize()[0]).corr(method='pearson')",
      "metadata": {},
      "execution_count": null,
      "outputs": []
    },
    {
      "cell_type": "code",
      "source": "correlation_matrix = df.apply(lambda x: x.factorize()[0]).corr(method='pearson')\n\nsns.heatmap(correlation_matrix, annot = True)\n\nplt.title(\"Correlation matrix for Movies\")\n\nplt.xlabel(\"Movie features\")\n\nplt.ylabel(\"Movie features\")\n\nplt.show()",
      "metadata": {},
      "execution_count": null,
      "outputs": []
    },
    {
      "cell_type": "code",
      "source": "correlation_mat = df.apply(lambda x: x.factorize()[0]).corr()\n\ncorr_pairs = correlation_mat.unstack()\n\nprint(corr_pairs)",
      "metadata": {},
      "execution_count": null,
      "outputs": []
    },
    {
      "cell_type": "code",
      "source": "sorted_pairs = corr_pairs.sort_values(kind=\"quicksort\")\n\nprint(sorted_pairs)",
      "metadata": {},
      "execution_count": null,
      "outputs": []
    },
    {
      "cell_type": "code",
      "source": "# To take a look at the ones that have a high correlation (> 0.5)\n\nstrong_pairs = sorted_pairs[abs(sorted_pairs) > 0.5]\n\nprint(strong_pairs)",
      "metadata": {},
      "execution_count": null,
      "outputs": []
    },
    {
      "cell_type": "code",
      "source": "# Looking at the top 15 compaies by gross revenue\n\nCompanyGrossSum = df.groupby('company')[[\"gross\"]].sum()\n\nCompanyGrossSumSorted = CompanyGrossSum.sort_values('gross', ascending = False)[:15]\n\nCompanyGrossSumSorted = CompanyGrossSumSorted['gross'].astype('int64') \n\nCompanyGrossSumSorted",
      "metadata": {},
      "execution_count": null,
      "outputs": []
    },
    {
      "cell_type": "code",
      "source": "df['Year'] = df['released'].astype(str).str[:4]\ndf",
      "metadata": {},
      "execution_count": null,
      "outputs": []
    },
    {
      "cell_type": "code",
      "source": "df.groupby(['company', 'year'])[[\"gross\"]].sum()",
      "metadata": {},
      "execution_count": null,
      "outputs": []
    },
    {
      "cell_type": "code",
      "source": "CompanyGrossSum = df.groupby(['company', 'year'])[[\"gross\"]].sum()\n\nCompanyGrossSumSorted = CompanyGrossSum.sort_values(['gross','company','year'], ascending = False)[:15]\n\nCompanyGrossSumSorted = CompanyGrossSumSorted['gross'].astype('int64') \n\nCompanyGrossSumSorted",
      "metadata": {},
      "execution_count": null,
      "outputs": []
    },
    {
      "cell_type": "code",
      "source": "CompanyGrossSum = df.groupby(['company'])[[\"gross\"]].sum()\n\nCompanyGrossSumSorted = CompanyGrossSum.sort_values(['gross','company'], ascending = False)[:15]\n\nCompanyGrossSumSorted = CompanyGrossSumSorted['gross'].astype('int64') \n\nCompanyGrossSumSorted",
      "metadata": {},
      "execution_count": null,
      "outputs": []
    },
    {
      "cell_type": "code",
      "source": "plt.scatter(x=df['budget'], y=df['gross'], alpha=0.5)\nplt.title('Budget vs Gross Earnings')\nplt.xlabel('Gross Earnings')\nplt.ylabel('Budget for Film')\nplt.show()",
      "metadata": {},
      "execution_count": null,
      "outputs": []
    },
    {
      "cell_type": "code",
      "source": "df",
      "metadata": {},
      "execution_count": null,
      "outputs": []
    },
    {
      "cell_type": "code",
      "source": "df_numerized = df\n\n\nfor col_name in df_numerized.columns:\n    if(df_numerized[col_name].dtype == 'object'):\n        df_numerized[col_name]= df_numerized[col_name].astype('category')\n        df_numerized[col_name] = df_numerized[col_name].cat.codes\n        \ndf_numerized",
      "metadata": {},
      "execution_count": null,
      "outputs": []
    },
    {
      "cell_type": "code",
      "source": "df_numerized.corr(method='pearson')",
      "metadata": {},
      "execution_count": null,
      "outputs": []
    },
    {
      "cell_type": "code",
      "source": "correlation_matrix = df_numerized.corr(method='pearson')\n\nsns.heatmap(correlation_matrix, annot = True)\n\nplt.title(\"Correlation matrix for Movies\")\n\nplt.xlabel(\"Movie features\")\n\nplt.ylabel(\"Movie features\")\n\nplt.show()",
      "metadata": {},
      "execution_count": null,
      "outputs": []
    },
    {
      "cell_type": "code",
      "source": "for col_name in df.columns:\n    if(df[col_name].dtype == 'object'):\n        df[col_name]= df[col_name].astype('category')\n        df[col_name] = df[col_name].cat.codes",
      "metadata": {},
      "execution_count": null,
      "outputs": []
    },
    {
      "cell_type": "code",
      "source": "df[cat_columns] = df[cat_columns].apply(lambda x: x.cat.codes)\n\ndf",
      "metadata": {},
      "execution_count": null,
      "outputs": []
    },
    {
      "cell_type": "code",
      "source": "sns.swarmplot(x=\"rating\", y=\"gross\", data=df)",
      "metadata": {},
      "execution_count": null,
      "outputs": []
    },
    {
      "cell_type": "code",
      "source": "sns.stripplot(x=\"rating\", y=\"gross\", data=df)",
      "metadata": {},
      "execution_count": null,
      "outputs": []
    }
  ]
}